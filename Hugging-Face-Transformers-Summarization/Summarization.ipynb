{
 "cells": [
  {
   "cell_type": "markdown",
   "metadata": {},
   "source": [
    "# 1. Installing and Import Transformers"
   ]
  },
  {
   "cell_type": "code",
   "execution_count": null,
   "metadata": {},
   "outputs": [],
   "source": [
    "!pip install transformers"
   ]
  },
  {
   "cell_type": "code",
   "execution_count": 1,
   "metadata": {},
   "outputs": [
    {
     "name": "stderr",
     "output_type": "stream",
     "text": [
      "/home/tinapyp/Dependencies/miniconda3/envs/dev/lib/python3.10/site-packages/tqdm/auto.py:21: TqdmWarning: IProgress not found. Please update jupyter and ipywidgets. See https://ipywidgets.readthedocs.io/en/stable/user_install.html\n",
      "  from .autonotebook import tqdm as notebook_tqdm\n",
      "2024-03-05 20:15:44.504181: I external/local_tsl/tsl/cuda/cudart_stub.cc:31] Could not find cuda drivers on your machine, GPU will not be used.\n",
      "2024-03-05 20:15:44.532876: E external/local_xla/xla/stream_executor/cuda/cuda_dnn.cc:9261] Unable to register cuDNN factory: Attempting to register factory for plugin cuDNN when one has already been registered\n",
      "2024-03-05 20:15:44.532918: E external/local_xla/xla/stream_executor/cuda/cuda_fft.cc:607] Unable to register cuFFT factory: Attempting to register factory for plugin cuFFT when one has already been registered\n",
      "2024-03-05 20:15:44.534294: E external/local_xla/xla/stream_executor/cuda/cuda_blas.cc:1515] Unable to register cuBLAS factory: Attempting to register factory for plugin cuBLAS when one has already been registered\n",
      "2024-03-05 20:15:44.540317: I external/local_tsl/tsl/cuda/cudart_stub.cc:31] Could not find cuda drivers on your machine, GPU will not be used.\n",
      "2024-03-05 20:15:44.541085: I tensorflow/core/platform/cpu_feature_guard.cc:182] This TensorFlow binary is optimized to use available CPU instructions in performance-critical operations.\n",
      "To enable the following instructions: AVX2 FMA, in other operations, rebuild TensorFlow with the appropriate compiler flags.\n",
      "2024-03-05 20:15:45.201038: W tensorflow/compiler/tf2tensorrt/utils/py_utils.cc:38] TF-TRT Warning: Could not find TensorRT\n"
     ]
    }
   ],
   "source": [
    "from transformers import pipeline"
   ]
  },
  {
   "cell_type": "markdown",
   "metadata": {},
   "source": [
    "# 2. Load Summarization Pipeline"
   ]
  },
  {
   "cell_type": "code",
   "execution_count": 2,
   "metadata": {},
   "outputs": [
    {
     "name": "stderr",
     "output_type": "stream",
     "text": [
      "No model was supplied, defaulted to google-t5/t5-small and revision d769bba (https://huggingface.co/google-t5/t5-small).\n",
      "Using a pipeline without specifying a model name and revision in production is not recommended.\n",
      "Error while downloading from https://cdn-lfs.huggingface.co/t5-small/bd944e5f1b3ad9b70dd9d00010a517059e19265671076b8b0a4a58d9491842bc?response-content-disposition=attachment%3B+filename*%3DUTF-8%27%27model.safetensors%3B+filename%3D%22model.safetensors%22%3B&Expires=1709902936&Policy=eyJTdGF0ZW1lbnQiOlt7IkNvbmRpdGlvbiI6eyJEYXRlTGVzc1RoYW4iOnsiQVdTOkVwb2NoVGltZSI6MTcwOTkwMjkzNn19LCJSZXNvdXJjZSI6Imh0dHBzOi8vY2RuLWxmcy5odWdnaW5nZmFjZS5jby90NS1zbWFsbC9iZDk0NGU1ZjFiM2FkOWI3MGRkOWQwMDAxMGE1MTcwNTllMTkyNjU2NzEwNzZiOGIwYTRhNThkOTQ5MTg0MmJjP3Jlc3BvbnNlLWNvbnRlbnQtZGlzcG9zaXRpb249KiJ9XX0_&Signature=0MLw6mvu8qvD10ZnDyaRzTTv0aaFDSoxRmb%7EPBCYisQydPLqZjT0ri5mnwdox%7E20suv9eFtj4y0-JmUHzU9SIz%7EDIVPXTmShtq7ligOn2hP41r5vdde0wnTg7hNUoDO6EyfUd2624IlWOU6nRJV4FAGI7rWkTFF2vw-wjEenhCOB2j5zyG74kO8%7EsuSO2zNBCiI7TBkwc1bJwgyJ%7EpuvIwM6LGluIiHcS1Rn6uD9brGWnsi5o4EibLpaRkkSBx0LfPfS1Vjna%7EHM3TfspPw0fxVPBOArlWrRMVW7tDrLNn5P29hOYVyFZgJ6c3eucNSKPrqOnOb-43gcgFiV0nMFcg__&Key-Pair-Id=KVTP0A1DKRTAX: HTTPSConnectionPool(host='cdn-lfs.huggingface.co', port=443): Read timed out.\n",
      "Trying to resume download...\n",
      "2024-03-05 20:19:10.093680: W external/local_tsl/tsl/framework/cpu_allocator_impl.cc:83] Allocation of 65798144 exceeds 10% of free system memory.\n",
      "2024-03-05 20:19:10.135468: W external/local_tsl/tsl/framework/cpu_allocator_impl.cc:83] Allocation of 65798144 exceeds 10% of free system memory.\n",
      "2024-03-05 20:19:10.143863: W external/local_tsl/tsl/framework/cpu_allocator_impl.cc:83] Allocation of 65798144 exceeds 10% of free system memory.\n",
      "2024-03-05 20:19:10.568622: W external/local_tsl/tsl/framework/cpu_allocator_impl.cc:83] Allocation of 65798144 exceeds 10% of free system memory.\n",
      "All PyTorch model weights were used when initializing TFT5ForConditionalGeneration.\n",
      "\n",
      "All the weights of TFT5ForConditionalGeneration were initialized from the PyTorch model.\n",
      "If your task is similar to the task the model of the checkpoint was trained on, you can already use TFT5ForConditionalGeneration for predictions without further training.\n"
     ]
    }
   ],
   "source": [
    "summarizer = pipeline('summarization')"
   ]
  },
  {
   "cell_type": "markdown",
   "metadata": {},
   "source": [
    "# 3. Summarize Text"
   ]
  },
  {
   "cell_type": "code",
   "execution_count": 12,
   "metadata": {},
   "outputs": [],
   "source": [
    "article = \"\"\"\n",
    "The world of Linux is often perceived as a realm for tech enthusiasts, developers, and open-source advocates. Little did I know that my journey into the exciting world of Linux would start after acquiring essential skills through the Bangkit program. This article delves into my Linux adventure, highlighting the joy it brought to my tech endeavors, and the unexpected challenges I faced while using WSL2 for Python development.\n",
    "\n",
    "Bangkit Experience: Building Essential Skills:\n",
    "Before immersing myself in the Linux universe, I honed my skills through the Bangkit program. This intensive learning experience equipped me with a solid foundation in programming, machine learning, and data science. The newfound knowledge fueled my curiosity to explore different environments for coding, leading me to the Linux operating system.\n",
    "\n",
    "Discovering the Beauty of Linux:\n",
    "Embracing Linux was a revelation. The open-source nature of the system offered me unprecedented control over my development environment. The plethora of available tools, efficient package managers, and the robust terminal made coding not just a task but a pleasurable experience. The Linux community's collaborative spirit was evident, with a wealth of resources available to help me navigate and optimize my workflow.\n",
    "\n",
    "Transitioning to Linux for Python Development:\n",
    "As I delved deeper into Python development, I decided to leverage the Windows Subsystem for Linux 2 (WSL2) to seamlessly integrate Linux functionality into my Windows environment. This was meant to be a bridge between the familiarity of Windows and the power of Linux. However, the transition was not without its challenges.\n",
    "\n",
    "WSL2 Woes: A Bumpy Ride:\n",
    "While WSL2 promised a harmonious coexistence of Windows and Linux, I encountered some roadblocks, particularly in Python development. Compatibility issues, file system inconsistencies, and performance quirks became apparent. Debugging and troubleshooting in this hybrid environment were more complex than I had anticipated, disrupting the smooth flow I had grown accustomed to on a native Linux system.\n",
    "\n",
    "Navigating Challenges and Seeking Solutions:\n",
    "Undeterred by the challenges, I delved into online communities, forums, and documentation to find solutions to my WSL2 woes. Customizing configurations, adjusting settings, and seeking alternative approaches became second nature. The Linux community, once again, proved to be a valuable asset in overcoming these hurdles.\n",
    "\n",
    "The Joy of Overcoming Challenges:\n",
    "As I addressed the challenges posed by WSL2, a sense of accomplishment accompanied each successful resolution. The troubleshooting process not only enhanced my technical skills but also deepened my understanding of the intricacies of Linux and its integration with other systems.\n",
    "\n",
    "My journey into Linux, sparked by the skills acquired through Bangkit, has been a rollercoaster of learning and overcoming challenges. Despite the initial struggles with WSL2, the experience has been enriching. Linux has become not just a development environment but a companion in my coding adventures. The journey continues, with each obstacle turning into an opportunity for growth, and the Linux community standing as a pillar of support in this ongoing adventure. Lastly, if you interested on my dotfiles. Check out my github\n",
    "\"\"\""
   ]
  },
  {
   "cell_type": "code",
   "execution_count": 16,
   "metadata": {},
   "outputs": [],
   "source": [
    "summarize_article = summarizer(article, max_length=130, min_length=30, do_sample=False)"
   ]
  },
  {
   "cell_type": "code",
   "execution_count": 17,
   "metadata": {},
   "outputs": [
    {
     "data": {
      "text/plain": [
       "'my journey into the world of Linux has been a rollercoaster of learning and overcoming challenges . despite the initial struggles with WSL2, the experience has been enriching .'"
      ]
     },
     "execution_count": 17,
     "metadata": {},
     "output_type": "execute_result"
    }
   ],
   "source": [
    "summarize_article[0]['summary_text']"
   ]
  },
  {
   "cell_type": "code",
   "execution_count": null,
   "metadata": {},
   "outputs": [],
   "source": []
  }
 ],
 "metadata": {
  "kernelspec": {
   "display_name": "tf",
   "language": "python",
   "name": "python3"
  },
  "language_info": {
   "codemirror_mode": {
    "name": "ipython",
    "version": 3
   },
   "file_extension": ".py",
   "mimetype": "text/x-python",
   "name": "python",
   "nbconvert_exporter": "python",
   "pygments_lexer": "ipython3",
   "version": "3.10.0"
  }
 },
 "nbformat": 4,
 "nbformat_minor": 2
}
